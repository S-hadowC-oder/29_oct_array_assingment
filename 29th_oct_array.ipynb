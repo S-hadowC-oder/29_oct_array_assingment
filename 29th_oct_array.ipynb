{
 "cells": [
  {
   "cell_type": "code",
   "execution_count": 4,
   "id": "25fb6f7a-ab85-4dda-9e6d-a5cac4058612",
   "metadata": {},
   "outputs": [
    {
     "name": "stdout",
     "output_type": "stream",
     "text": [
      "Duplicates found\n"
     ]
    }
   ],
   "source": [
    "# 1. Given an array, check if it contains any duplicates or not.\n",
    "# arr = [1, 2, 4, 2, 5, 9]\n",
    "# Output = True\n",
    "\n",
    "def check_duplicates(arr):\n",
    "    if len(arr) == len(set(arr)):\n",
    "        return \"No duplicates found\"\n",
    "    else:\n",
    "        return \"Duplicates found\"\n",
    "\n",
    "#Driver Code\n",
    "arr = [1, 2, 4, 2, 5, 9]\n",
    "result = check_duplicates(arr)\n",
    "print(result)"
   ]
  },
  {
   "cell_type": "code",
   "execution_count": 18,
   "id": "1290c54e-154a-4f0b-bbf2-ad2f269379c8",
   "metadata": {},
   "outputs": [
    {
     "name": "stdout",
     "output_type": "stream",
     "text": [
      "[5, 6, 7, 1, 2, 3, 4]\n"
     ]
    }
   ],
   "source": [
    "# 2. Given an array and an integer k, rotate the array to the right by k steps.\n",
    "# arr = [1, 2, 3, 4, 5, 6, 7] k = 3\n",
    "# Output = [5, 6, 7, 1, 2, 3, 4]\n",
    "\n",
    "\n",
    "def rotate_array(arr, k):\n",
    "    return arr[-k:] + arr[:-k]\n",
    "#driver code\n",
    "arr = [1, 2, 3, 4, 5, 6, 7]\n",
    "k = 3\n",
    "rotated_arr = rotate_array(arr, k)\n",
    "print(rotated_arr)"
   ]
  },
  {
   "cell_type": "code",
   "execution_count": 29,
   "id": "b35452ba-5a07-4e8c-a72e-bdacf3576742",
   "metadata": {},
   "outputs": [],
   "source": [
    "arr = [1, 2, 3, 4, 5, 6, 7]"
   ]
  },
  {
   "cell_type": "code",
   "execution_count": 17,
   "id": "c83478d0-9011-4cbf-ab7a-e4b5a7e92e82",
   "metadata": {},
   "outputs": [
    {
     "data": {
      "text/plain": [
       "[5, 6, 7]"
      ]
     },
     "execution_count": 17,
     "metadata": {},
     "output_type": "execute_result"
    }
   ],
   "source": [
    "k = 3\n",
    "arr[-k:]"
   ]
  },
  {
   "cell_type": "code",
   "execution_count": 15,
   "id": "e8610f20-5b90-47ae-b4b1-c285a8a17176",
   "metadata": {},
   "outputs": [
    {
     "data": {
      "text/plain": [
       "[1, 2, 3, 4]"
      ]
     },
     "execution_count": 15,
     "metadata": {},
     "output_type": "execute_result"
    }
   ],
   "source": [
    "k=3\n",
    "arr[:-k]"
   ]
  },
  {
   "cell_type": "code",
   "execution_count": 35,
   "id": "44062be7-3112-429a-923e-da7e007dfa3f",
   "metadata": {},
   "outputs": [
    {
     "name": "stdout",
     "output_type": "stream",
     "text": [
      "Reversed array is: [12, 9, 5, 7, 4, 2]\n"
     ]
    }
   ],
   "source": [
    "# 3. Reverse the given array in-place, means without using any extra data structure.\n",
    "# arr = [2, 4, 5, 7, 9, 12]\n",
    "# Output = [12, 9, 7, 5, 4, 2]\n",
    "\n",
    "def reverse(arr):\n",
    "    \n",
    "    i = 0\n",
    "    j = len(arr)-1\n",
    "    #keep swaping the elements until the i element is smaller than j\n",
    "    while i<j:\n",
    "        #swap elwmwnts\n",
    "        arr[i],arr[j] = arr[j], arr[i]\n",
    "        \n",
    "        # moving the pointers towards the center\n",
    "        i +=1\n",
    "        j -= i\n",
    "    \n",
    "\n",
    "arr = [2, 4, 5, 7, 9, 12]\n",
    "result = reverse(arr)\n",
    "print(\"Reversed array is:\",arr)"
   ]
  },
  {
   "cell_type": "code",
   "execution_count": 39,
   "id": "9ef63bae-1a98-47b3-bef8-c81e05b7c2ef",
   "metadata": {},
   "outputs": [
    {
     "name": "stdout",
     "output_type": "stream",
     "text": [
      "20\n"
     ]
    }
   ],
   "source": [
    "# 4. Given an array of integers, find the maximum element in an array\n",
    "# arr = [10, 5, 20, 8, 15]\n",
    "# Output = 20\n",
    "def maximum(arr):\n",
    "    maxx = arr[0]\n",
    "    for i in range(len(arr)):\n",
    "        if arr[i]> maxx:\n",
    "            maxx = arr[i]\n",
    "    return maxx\n",
    "\n",
    "arr = [10, 5, 20, 8, 15]\n",
    "result = maximum(arr)\n",
    "print(result)"
   ]
  },
  {
   "cell_type": "code",
   "execution_count": 55,
   "id": "d32b2f2b-9f41-4ed9-b49b-aae046abba22",
   "metadata": {},
   "outputs": [
    {
     "name": "stdout",
     "output_type": "stream",
     "text": [
      "[1, 1, 2, 2, 2, 3, 3, 4, 4, 4, 5, 5]\n"
     ]
    }
   ],
   "source": [
    "# 5. Given a sorted array, remove the duplicate element without using any extra data structure.\n",
    "# arr = [1, 1, 2, 2, 2, 3, 3, 4, 4, 4, 5, 5]\n",
    "# Output = [1, 2, 3, 4, 5]\n",
    "def removeDuplicates(arr):\n",
    "    convert = set\n",
    "arr = [1, 1, 2, 2, 2, 3, 3, 4, 4, 4, 5, 5]\n",
    "result = removeDuplicates(arr)\n",
    "print(result)"
   ]
  },
  {
   "cell_type": "code",
   "execution_count": 53,
   "id": "a613a781-4341-4bb9-8cb4-2f59b8908cbd",
   "metadata": {},
   "outputs": [
    {
     "name": "stdout",
     "output_type": "stream",
     "text": [
      "[1, 2, 3, 4, 5, 3, 4, 4, 5, 5]\n"
     ]
    }
   ],
   "source": [
    "def remove_duplicates_in_place(arr):\n",
    "    # Check if the array is empty or has only one element\n",
    "    if len(arr) <= 1:\n",
    "        return arr\n",
    "\n",
    "    # Initialize two pointers\n",
    "    slow_ptr = 0\n",
    "\n",
    "    # Iterate through the array with the fast pointer\n",
    "    for fast_ptr in range(1, len(arr)):\n",
    "        # If the current element is different from the previous one,\n",
    "        # update the slow pointer and set the current element at that position\n",
    "        if arr[fast_ptr] != arr[slow_ptr]:\n",
    "            slow_ptr += 1\n",
    "            arr[slow_ptr] = arr[fast_ptr]\n",
    "\n",
    "    # Remove the extra elements at the end of the array\n",
    "    arr = arr[:slow_ptr + 1]\n",
    "\n",
    "# Example usage\n",
    "arr = [1, 1, 2, 2, 3, 3, 4, 4,  5, 5]\n",
    "remove_duplicates_in_place(arr)\n",
    "print(arr)\n"
   ]
  },
  {
   "cell_type": "code",
   "execution_count": 58,
   "id": "8f257394-988c-4239-952c-fb25ec766feb",
   "metadata": {},
   "outputs": [],
   "source": [
    "arr = [1, 1, 2, 2, 2, 3, 3, 4, 4, 4, 5, 5]\n",
    "convert = set(arr)"
   ]
  },
  {
   "cell_type": "code",
   "execution_count": 59,
   "id": "f8dc54d6-5968-4657-b6ea-163a97ee5416",
   "metadata": {},
   "outputs": [
    {
     "data": {
      "text/plain": [
       "{1, 2, 3, 4, 5}"
      ]
     },
     "execution_count": 59,
     "metadata": {},
     "output_type": "execute_result"
    }
   ],
   "source": [
    "convert"
   ]
  },
  {
   "cell_type": "code",
   "execution_count": null,
   "id": "e7b65cb4-3faf-4f35-a9f4-3cb6d2bb331a",
   "metadata": {},
   "outputs": [],
   "source": []
  }
 ],
 "metadata": {
  "kernelspec": {
   "display_name": "Python 3 (ipykernel)",
   "language": "python",
   "name": "python3"
  },
  "language_info": {
   "codemirror_mode": {
    "name": "ipython",
    "version": 3
   },
   "file_extension": ".py",
   "mimetype": "text/x-python",
   "name": "python",
   "nbconvert_exporter": "python",
   "pygments_lexer": "ipython3",
   "version": "3.10.8"
  }
 },
 "nbformat": 4,
 "nbformat_minor": 5
}
